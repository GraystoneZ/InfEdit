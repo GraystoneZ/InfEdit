{
 "cells": [
  {
   "cell_type": "code",
   "execution_count": 1,
   "metadata": {},
   "outputs": [
    {
     "name": "stderr",
     "output_type": "stream",
     "text": [
      "/usr/local/envs/main/lib/python3.9/site-packages/tqdm/auto.py:21: TqdmWarning: IProgress not found. Please update jupyter and ipywidgets. See https://ipywidgets.readthedocs.io/en/stable/user_install.html\n",
      "  from .autonotebook import tqdm as notebook_tqdm\n"
     ]
    }
   ],
   "source": [
    "import torch\n",
    "import kornia\n",
    "import numpy as np\n",
    "import matplotlib.pyplot as plt\n",
    "import os\n",
    "from PIL import Image\n",
    "\n",
    "def tensor_to_numpy(tensor, normalize=False):\n",
    "    out_np: np.ndarray = kornia.utils.tensor_to_image(tensor.to(device='cpu'))\n",
    "    if normalize:\n",
    "        min_val = np.min(out_np)\n",
    "        max_val = np.max(out_np)\n",
    "        if min_val == max_val:\n",
    "            return out_np\n",
    "        # Normalize the image to range [0, 1]\n",
    "        out_np = (out_np - min_val) / (max_val - min_val)\n",
    "    return out_np\n",
    "\n",
    "def save_tensor_image(tensor, path, normalize=False):\n",
    "    os.makedirs(os.path.dirname(path), exist_ok=True)\n",
    "    array = tensor_to_numpy(tensor, normalize)\n",
    "    image = Image.fromarray(np.uint8(array * 255))\n",
    "    image.save(path)\n",
    "\n",
    "def imshow(input: torch.Tensor, normalize=False):\n",
    "    # out = torchvision.utils.make_grid(input, nrow=2, padding=5)\n",
    "    out = tensor_to_numpy(input, normalize)\n",
    "    plt.imshow(out, cmap='gray')\n",
    "    plt.axis(\"off\")\n",
    "    plt.show()\n",
    "\n",
    "def image_refine(ref, edit, loss_fn, iteration, weight=1.0, v=False, v_iter=10, v_dir='experiments/temp'):\n",
    "    edit_copy = edit.clone()\n",
    "    edit_copy.requires_grad = True\n",
    "    os.makedirs(os.path.join(v_dir, 'image'), exist_ok=True)\n",
    "    os.makedirs(os.path.join(v_dir, 'grad'), exist_ok=True)\n",
    "\n",
    "    for i in range(iteration):\n",
    "        edit_copy.requires_grad = True\n",
    "        optimizer = SGD(params=[edit_copy], lr=1e-1)\n",
    "        optimizer.zero_grad()\n",
    "        loss = weight * loss_fn(ref, edit_copy)\n",
    "        loss.backward()\n",
    "        optimizer.step()\n",
    "        grad = edit_copy.grad\n",
    "        edit_copy = torch.clamp(edit_copy.detach(), 0.0, 1.0)\n",
    "\n",
    "        if v and i % v_iter == 0:\n",
    "            print(f'{i} iter loss : {loss}')\n",
    "            out_image_path = os.path.join(v_dir, 'image', f'{i}.png')\n",
    "            out_grad_path = os.path.join(v_dir, 'grad', f'{i}.png')\n",
    "\n",
    "            save_tensor_image(edit_copy, out_image_path)\n",
    "            save_tensor_image(grad, out_grad_path, True)\n",
    "    \n",
    "    return edit_copy"
   ]
  },
  {
   "cell_type": "code",
   "execution_count": 2,
   "metadata": {},
   "outputs": [
    {
     "ename": "RuntimeError",
     "evalue": "Unexpected error from cudaGetDeviceCount(). Did you run some cuda functions before calling NumCudaDevices() that might have already set an error? Error 500: named symbol not found",
     "output_type": "error",
     "traceback": [
      "\u001b[0;31m---------------------------------------------------------------------------\u001b[0m",
      "\u001b[0;31mRuntimeError\u001b[0m                              Traceback (most recent call last)",
      "Cell \u001b[0;32mIn[2], line 1\u001b[0m\n\u001b[0;32m----> 1\u001b[0m ref_tensor \u001b[38;5;241m=\u001b[39m \u001b[43mkornia\u001b[49m\u001b[38;5;241;43m.\u001b[39;49m\u001b[43mio\u001b[49m\u001b[38;5;241;43m.\u001b[39;49m\u001b[43mload_image\u001b[49m\u001b[43m(\u001b[49m\u001b[38;5;124;43m\"\u001b[39;49m\u001b[38;5;124;43mimages/edge_optimization_test/0_gradient.png\u001b[39;49m\u001b[38;5;124;43m\"\u001b[39;49m\u001b[43m,\u001b[49m\u001b[43m \u001b[49m\u001b[43mkornia\u001b[49m\u001b[38;5;241;43m.\u001b[39;49m\u001b[43mio\u001b[49m\u001b[38;5;241;43m.\u001b[39;49m\u001b[43mImageLoadType\u001b[49m\u001b[38;5;241;43m.\u001b[39;49m\u001b[43mRGB32\u001b[49m\u001b[43m,\u001b[49m\u001b[43m \u001b[49m\u001b[43mdevice\u001b[49m\u001b[38;5;241;43m=\u001b[39;49m\u001b[38;5;124;43m'\u001b[39;49m\u001b[38;5;124;43mcuda\u001b[39;49m\u001b[38;5;124;43m'\u001b[39;49m\u001b[43m)\u001b[49m[\u001b[38;5;28;01mNone\u001b[39;00m, \u001b[38;5;241m.\u001b[39m\u001b[38;5;241m.\u001b[39m\u001b[38;5;241m.\u001b[39m]  \u001b[38;5;66;03m# BxCxHxW\u001b[39;00m\n\u001b[1;32m      2\u001b[0m imshow(ref_tensor)\n\u001b[1;32m      3\u001b[0m edit_tensor \u001b[38;5;241m=\u001b[39m kornia\u001b[38;5;241m.\u001b[39mio\u001b[38;5;241m.\u001b[39mload_image(\u001b[38;5;124m\"\u001b[39m\u001b[38;5;124mimages/edge_optimization_test/10.png\u001b[39m\u001b[38;5;124m\"\u001b[39m, kornia\u001b[38;5;241m.\u001b[39mio\u001b[38;5;241m.\u001b[39mImageLoadType\u001b[38;5;241m.\u001b[39mRGB32, device\u001b[38;5;241m=\u001b[39m\u001b[38;5;124m'\u001b[39m\u001b[38;5;124mcuda\u001b[39m\u001b[38;5;124m'\u001b[39m)[\u001b[38;5;28;01mNone\u001b[39;00m, \u001b[38;5;241m.\u001b[39m\u001b[38;5;241m.\u001b[39m\u001b[38;5;241m.\u001b[39m]  \u001b[38;5;66;03m# BxCxHxW\u001b[39;00m\n",
      "File \u001b[0;32m/usr/local/envs/main/lib/python3.9/site-packages/kornia/io/io.py:83\u001b[0m, in \u001b[0;36mload_image\u001b[0;34m(path_file, desired_type, device)\u001b[0m\n\u001b[1;32m     80\u001b[0m     path_file \u001b[38;5;241m=\u001b[39m Path(path_file)\n\u001b[1;32m     82\u001b[0m \u001b[38;5;66;03m# read the image using the kornia_rs package\u001b[39;00m\n\u001b[0;32m---> 83\u001b[0m image: Tensor \u001b[38;5;241m=\u001b[39m \u001b[43m_load_image_to_tensor\u001b[49m\u001b[43m(\u001b[49m\u001b[43mpath_file\u001b[49m\u001b[43m,\u001b[49m\u001b[43m \u001b[49m\u001b[43mdevice\u001b[49m\u001b[43m)\u001b[49m  \u001b[38;5;66;03m# CxHxW\u001b[39;00m\n\u001b[1;32m     85\u001b[0m \u001b[38;5;28;01mif\u001b[39;00m desired_type \u001b[38;5;241m==\u001b[39m ImageLoadType\u001b[38;5;241m.\u001b[39mUNCHANGED:\n\u001b[1;32m     86\u001b[0m     \u001b[38;5;28;01mreturn\u001b[39;00m image\n",
      "File \u001b[0;32m/usr/local/envs/main/lib/python3.9/site-packages/kornia/io/io.py:53\u001b[0m, in \u001b[0;36m_load_image_to_tensor\u001b[0;34m(path_file, device)\u001b[0m\n\u001b[1;32m     50\u001b[0m \u001b[38;5;66;03m# move the tensor to the desired device,\u001b[39;00m\n\u001b[1;32m     51\u001b[0m dev \u001b[38;5;241m=\u001b[39m device \u001b[38;5;28;01mif\u001b[39;00m \u001b[38;5;28misinstance\u001b[39m(device, torch\u001b[38;5;241m.\u001b[39mdevice) \u001b[38;5;129;01mor\u001b[39;00m device \u001b[38;5;129;01mis\u001b[39;00m \u001b[38;5;28;01mNone\u001b[39;00m \u001b[38;5;28;01melse\u001b[39;00m torch\u001b[38;5;241m.\u001b[39mdevice(device)\n\u001b[0;32m---> 53\u001b[0m \u001b[38;5;28;01mreturn\u001b[39;00m \u001b[43mimg_t\u001b[49m\u001b[38;5;241;43m.\u001b[39;49m\u001b[43mto\u001b[49m\u001b[43m(\u001b[49m\u001b[43mdevice\u001b[49m\u001b[38;5;241;43m=\u001b[39;49m\u001b[43mdev\u001b[49m\u001b[43m)\u001b[49m\n",
      "File \u001b[0;32m/usr/local/envs/main/lib/python3.9/site-packages/torch/cuda/__init__.py:302\u001b[0m, in \u001b[0;36m_lazy_init\u001b[0;34m()\u001b[0m\n\u001b[1;32m    300\u001b[0m \u001b[38;5;28;01mif\u001b[39;00m \u001b[38;5;124m\"\u001b[39m\u001b[38;5;124mCUDA_MODULE_LOADING\u001b[39m\u001b[38;5;124m\"\u001b[39m \u001b[38;5;129;01mnot\u001b[39;00m \u001b[38;5;129;01min\u001b[39;00m os\u001b[38;5;241m.\u001b[39menviron:\n\u001b[1;32m    301\u001b[0m     os\u001b[38;5;241m.\u001b[39menviron[\u001b[38;5;124m\"\u001b[39m\u001b[38;5;124mCUDA_MODULE_LOADING\u001b[39m\u001b[38;5;124m\"\u001b[39m] \u001b[38;5;241m=\u001b[39m \u001b[38;5;124m\"\u001b[39m\u001b[38;5;124mLAZY\u001b[39m\u001b[38;5;124m\"\u001b[39m\n\u001b[0;32m--> 302\u001b[0m \u001b[43mtorch\u001b[49m\u001b[38;5;241;43m.\u001b[39;49m\u001b[43m_C\u001b[49m\u001b[38;5;241;43m.\u001b[39;49m\u001b[43m_cuda_init\u001b[49m\u001b[43m(\u001b[49m\u001b[43m)\u001b[49m\n\u001b[1;32m    303\u001b[0m \u001b[38;5;66;03m# Some of the queued calls may reentrantly call _lazy_init();\u001b[39;00m\n\u001b[1;32m    304\u001b[0m \u001b[38;5;66;03m# we need to just return without initializing in that case.\u001b[39;00m\n\u001b[1;32m    305\u001b[0m \u001b[38;5;66;03m# However, we must not let any *other* threads in!\u001b[39;00m\n\u001b[1;32m    306\u001b[0m _tls\u001b[38;5;241m.\u001b[39mis_initializing \u001b[38;5;241m=\u001b[39m \u001b[38;5;28;01mTrue\u001b[39;00m\n",
      "\u001b[0;31mRuntimeError\u001b[0m: Unexpected error from cudaGetDeviceCount(). Did you run some cuda functions before calling NumCudaDevices() that might have already set an error? Error 500: named symbol not found"
     ]
    }
   ],
   "source": [
    "ref_tensor = kornia.io.load_image(\"images/edge_optimization_test/0_gradient.png\", kornia.io.ImageLoadType.RGB32, device='cuda')[None, ...]  # BxCxHxW\n",
    "imshow(ref_tensor)\n",
    "edit_tensor = kornia.io.load_image(\"images/edge_optimization_test/10.png\", kornia.io.ImageLoadType.RGB32, device='cuda')[None, ...]  # BxCxHxW\n",
    "imshow(edit_tensor)"
   ]
  }
 ],
 "metadata": {
  "kernelspec": {
   "display_name": "main",
   "language": "python",
   "name": "python3"
  },
  "language_info": {
   "codemirror_mode": {
    "name": "ipython",
    "version": 3
   },
   "file_extension": ".py",
   "mimetype": "text/x-python",
   "name": "python",
   "nbconvert_exporter": "python",
   "pygments_lexer": "ipython3",
   "version": "3.9.19"
  }
 },
 "nbformat": 4,
 "nbformat_minor": 2
}
